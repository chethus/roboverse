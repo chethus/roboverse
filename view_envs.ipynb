{
 "cells": [
  {
   "cell_type": "code",
   "execution_count": 2,
   "metadata": {},
   "outputs": [],
   "source": [
    "import gym, roboverse\n",
    "import pybullet as p\n",
    "import re"
   ]
  },
  {
   "cell_type": "code",
   "execution_count": 3,
   "metadata": {},
   "outputs": [],
   "source": [
    "def render_envs(env_pattern):\n",
    "    env_specs = gym.envs.registry.all()\n",
    "    matching_ids = [spec.id for spec in env_specs if re.match(env_pattern, spec.id)]\n",
    "    print(f'Found {len(matching_ids)} matching environments.')\n",
    "    for env_id in matching_ids:\n",
    "        print(env_id)\n",
    "        env = roboverse.make(env_id, gui=True)\n",
    "        env.reset()\n",
    "        for _ in range(100):\n",
    "            env.step(env.action_space.sample())\n",
    "        p.disconnect()"
   ]
  },
  {
   "cell_type": "code",
   "execution_count": 3,
   "metadata": {},
   "outputs": [
    {
     "name": "stdout",
     "output_type": "stream",
     "text": [
      "Found 47 matching environments.\n",
      "Widow250GraspLocconic_cup-v0\n",
      "Widow250GraspLocfountain_vase-v0\n",
      "Widow250GraspLoccircular_table-v0\n",
      "Widow250GraspLochex_deep_bowl-v0\n",
      "Widow250GraspLocsmushed_dumbbell-v0\n",
      "Widow250GraspLocsquare_prism_bin-v0\n",
      "Widow250GraspLocnarrow_tray-v0\n",
      "Widow250GraspLoccolunnade_top-v0\n",
      "Widow250GraspLocstalagcite_chunk-v0\n"
     ]
    }
   ],
   "source": [
    "render_envs('Widow250GraspLoc*')"
   ]
  },
  {
   "cell_type": "code",
   "execution_count": 4,
   "metadata": {},
   "outputs": [
    {
     "name": "stdout",
     "output_type": "stream",
     "text": [
      "Found 5 matching environments.\n",
      "Widow250GraspEasy_circular_table-v0\n",
      "Widow250GraspLoc_circular_table-v0\n",
      "Widow250GraspBig_circular_table-v0\n",
      "Widow250GraspOrient_circular_table-v0\n",
      "Widow250GraspHard_circular_table-v0\n"
     ]
    }
   ],
   "source": [
    "render_envs('.*Grasp.*table')"
   ]
  }
 ],
 "metadata": {
  "interpreter": {
   "hash": "fc0522fae17f3898568f65a5066455d2f5a84ad42c9aa3408fb40872224b7dfe"
  },
  "kernelspec": {
   "display_name": "Python 3.6.13 ('roboverse')",
   "language": "python",
   "name": "python3"
  },
  "language_info": {
   "codemirror_mode": {
    "name": "ipython",
    "version": 3
   },
   "file_extension": ".py",
   "mimetype": "text/x-python",
   "name": "python",
   "nbconvert_exporter": "python",
   "pygments_lexer": "ipython3",
   "version": "3.6.13"
  },
  "orig_nbformat": 4
 },
 "nbformat": 4,
 "nbformat_minor": 2
}
