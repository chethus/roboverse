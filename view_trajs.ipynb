{
 "cells": [
  {
   "cell_type": "code",
   "execution_count": 2,
   "metadata": {},
   "outputs": [],
   "source": [
    "import numpy as np\n",
    "import matplotlib.pyplot as plt\n",
    "import glob\n",
    "from collections import defaultdict"
   ]
  },
  {
   "cell_type": "code",
   "execution_count": 3,
   "metadata": {},
   "outputs": [],
   "source": [
    "def view_traj(dataset_path, traj_ind=0):\n",
    "    dataset = np.load(dataset_path, allow_pickle=True)\n",
    "    traj_observations = dataset[traj_ind]['observations']\n",
    "    for obs in traj_observations:\n",
    "        plt.imshow(obs['image'])\n",
    "        plt.show()"
   ]
  },
  {
   "cell_type": "code",
   "execution_count": 4,
   "metadata": {},
   "outputs": [],
   "source": [
    "def success_rate(trajs_path):\n",
    "    trajs = np.load(trajs_path, allow_pickle=True)\n",
    "    successes = 0\n",
    "    for traj in trajs:\n",
    "        if any(info['grasp_success_target'] for info in traj['env_infos']):\n",
    "            successes += 1\n",
    "    return successes/len(trajs)\n",
    "\n",
    "def success_by_orientation(trajs_path):\n",
    "    trajs = np.load(trajs_path, allow_pickle=True)\n",
    "    orientation_choices = np.array((\n",
    "        (0, 0.707, 0.707, 0),\n",
    "        (0, 0, 1, 0),\n",
    "        (0, 0.707, 0, 0.707),\n",
    "        (0, -0.707, 0.707, 0),\n",
    "        (0.5, 0.5, 0.5, 0.5),\n",
    "        (0, 0, 0.707, 0.707)\n",
    "    ))\n",
    "    orientation_successes = defaultdict(int)\n",
    "    orientation_totals = defaultdict(int)\n",
    "    for traj in trajs:\n",
    "        traj_orientation  = traj['observations'][0]['object_orientation']\n",
    "        orientation_idx = np.argmin(np.linalg.norm(orientation_choices - traj_orientation, axis=1))\n",
    "        orientation_totals[orientation_idx] += 1\n",
    "        if any(info['grasp_success_target'] for info in traj['env_infos']):\n",
    "            orientation_successes[orientation_idx] += 1\n",
    "    for k, v in orientation_totals.items():\n",
    "        print(orientation_successes[k]/v)"
   ]
  },
  {
   "cell_type": "markdown",
   "metadata": {},
   "source": [
    "Scripted Sucess Rates"
   ]
  },
  {
   "cell_type": "code",
   "execution_count": 6,
   "metadata": {},
   "outputs": [],
   "source": [
    "train_trajs_dir = '/media/3tb/chet/robo_exp/trajs/grasp_train_types/'\n",
    "easy_trajs = glob.glob(f'{train_trajs_dir}Easy*')[0]\n",
    "big_trajs = glob.glob(f'{train_trajs_dir}Big*')[0]\n",
    "loc_trajs = glob.glob(f'{train_trajs_dir}Loc*')[0]\n",
    "orient_trajs = glob.glob(f'{train_trajs_dir}Orient*')[0]\n",
    "hard_trajs = glob.glob(f'{train_trajs_dir}Hard*')[0]"
   ]
  },
  {
   "cell_type": "code",
   "execution_count": 7,
   "metadata": {},
   "outputs": [
    {
     "name": "stdout",
     "output_type": "stream",
     "text": [
      "0.3274647887323944\n",
      "0.11262376237623763\n",
      "0.07525510204081633\n",
      "0.28151774785801714\n",
      "0.1553398058252427\n",
      "0.09492635024549918\n"
     ]
    }
   ],
   "source": [
    "success_by_orientation(hard_trajs)"
   ]
  },
  {
   "cell_type": "markdown",
   "metadata": {},
   "source": [
    "Train Object Success Rates"
   ]
  },
  {
   "cell_type": "code",
   "execution_count": 4,
   "metadata": {},
   "outputs": [
    {
     "name": "stdout",
     "output_type": "stream",
     "text": [
      "/media/3tb/chet/robo_exp/grasp_hard_train_all/stalagcite_chunk_Widow250GraspHard_stalagcite_chunk-v0_1000_save_all_noise_0.1_2022-04-29T04-44-39_1000.npy\n",
      "0.229\n",
      "/media/3tb/chet/robo_exp/grasp_hard_train_all/beehive_funnel_Widow250GraspHard_beehive_funnel-v0_1000_save_all_noise_0.1_2022-04-29T05-54-27_1000.npy\n",
      "0.249\n",
      "/media/3tb/chet/robo_exp/grasp_hard_train_all/flat_bottom_sack_vase_Widow250GraspHard_flat_bottom_sack_vase-v0_1000_save_all_noise_0.1_2022-04-29T06-52-00_1000.npy\n",
      "0.083\n",
      "/media/3tb/chet/robo_exp/grasp_hard_train_all/bongo_drum_bowl_Widow250GraspHard_bongo_drum_bowl-v0_1000_save_all_noise_0.1_2022-04-29T04-50-46_1000.npy\n",
      "0.313\n",
      "/media/3tb/chet/robo_exp/grasp_hard_train_all/square_prism_bin_Widow250GraspHard_square_prism_bin-v0_1000_save_all_noise_0.1_2022-04-29T02-55-55_1000.npy\n",
      "0.061\n",
      "/media/3tb/chet/robo_exp/grasp_hard_train_all/pepsi_bottle_Widow250GraspHard_pepsi_bottle-v0_1000_save_all_noise_0.1_2022-04-29T06-12-36_1000.npy\n",
      "0.214\n",
      "/media/3tb/chet/robo_exp/grasp_hard_train_all/box_sofa_Widow250GraspHard_box_sofa-v0_1000_save_all_noise_0.1_2022-04-29T07-33-30_1000.npy\n",
      "0.137\n",
      "/media/3tb/chet/robo_exp/grasp_hard_train_all/vintage_canoe_Widow250GraspHard_vintage_canoe-v0_1000_save_all_noise_0.1_2022-04-29T07-05-40_1000.npy\n",
      "0.039\n",
      "/media/3tb/chet/robo_exp/grasp_hard_train_all/pear_ringed_vase_Widow250GraspHard_pear_ringed_vase-v0_1000_save_all_noise_0.1_2022-04-29T06-32-55_1000.npy\n",
      "0.13\n",
      "/media/3tb/chet/robo_exp/grasp_hard_train_all/two_layered_lampshade_Widow250GraspHard_two_layered_lampshade-v0_1000_save_all_noise_0.1_2022-04-29T07-38-05_1000.npy\n",
      "0.002\n",
      "/media/3tb/chet/robo_exp/grasp_hard_train_all/ringed_cup_oversized_base_Widow250GraspHard_ringed_cup_oversized_base-v0_1000_save_all_noise_0.1_2022-04-29T07-59-50_1000.npy\n",
      "0.27\n",
      "/media/3tb/chet/robo_exp/grasp_hard_train_all/crooked_lid_trash_can_Widow250GraspHard_crooked_lid_trash_can-v0_1000_save_all_noise_0.1_2022-04-29T06-00-49_1000.npy\n",
      "0.208\n",
      "/media/3tb/chet/robo_exp/grasp_hard_train_all/long_vase_Widow250GraspHard_long_vase-v0_1000_save_all_noise_0.1_2022-04-29T07-55-00_1000.npy\n",
      "0.211\n",
      "/media/3tb/chet/robo_exp/grasp_hard_train_all/short_handle_cup_Widow250GraspHard_short_handle_cup-v0_1000_save_all_noise_0.1_2022-04-29T06-37-30_1000.npy\n",
      "0.116\n",
      "/media/3tb/chet/robo_exp/grasp_hard_train_all/flowery_half_donut_Widow250GraspHard_flowery_half_donut-v0_1000_save_all_noise_0.1_2022-04-29T07-17-57_1000.npy\n",
      "0.04\n",
      "/media/3tb/chet/robo_exp/grasp_hard_train_all/pacifier_vase_Widow250GraspHard_pacifier_vase-v0_1000_save_all_noise_0.1_2022-04-29T05-48-33_1000.npy\n",
      "0.282\n",
      "/media/3tb/chet/robo_exp/grasp_hard_train_all/hex_deep_bowl_Widow250GraspHard_hex_deep_bowl-v0_1000_save_all_noise_0.1_2022-04-29T02-45-35_1000.npy\n",
      "0.15\n",
      "/media/3tb/chet/robo_exp/grasp_hard_train_all/bathtub_Widow250GraspHard_bathtub-v0_1000_save_all_noise_0.1_2022-04-29T07-13-43_1000.npy\n",
      "0.15\n",
      "/media/3tb/chet/robo_exp/grasp_hard_train_all/circular_table_Widow250GraspHard_circular_table-v0_1000_save_all_noise_0.1_2022-04-29T04-22-30_1000.npy\n",
      "0.146\n",
      "/media/3tb/chet/robo_exp/grasp_hard_train_all/narrow_tray_Widow250GraspHard_narrow_tray-v0_1000_save_all_noise_0.1_2022-04-29T04-32-37_1000.npy\n",
      "0.214\n",
      "/media/3tb/chet/robo_exp/grasp_hard_train_all/colunnade_top_Widow250GraspHard_colunnade_top-v0_1000_save_all_noise_0.1_2022-04-29T05-41-07_1000.npy\n",
      "0.261\n",
      "/media/3tb/chet/robo_exp/grasp_hard_train_all/jar_Widow250GraspHard_jar-v0_1000_save_all_noise_0.1_2022-04-29T07-47-35_1000.npy\n",
      "0.073\n",
      "/media/3tb/chet/robo_exp/grasp_hard_train_all/modern_canoe_Widow250GraspHard_modern_canoe-v0_1000_save_all_noise_0.1_2022-04-29T06-28-26_1000.npy\n",
      "0.031\n",
      "/media/3tb/chet/robo_exp/grasp_hard_train_all/bunsen_burner_Widow250GraspHard_bunsen_burner-v0_1000_save_all_noise_0.1_2022-04-29T07-51-12_1000.npy\n",
      "0.297\n",
      "/media/3tb/chet/robo_exp/grasp_hard_train_all/cookie_circular_lidless_tin_Widow250GraspHard_cookie_circular_lidless_tin-v0_1000_save_all_noise_0.1_2022-04-29T07-28-27_1000.npy\n",
      "0.024\n",
      "/media/3tb/chet/robo_exp/grasp_hard_train_all/glass_half_gallon_Widow250GraspHard_glass_half_gallon-v0_1000_save_all_noise_0.1_2022-04-29T06-47-43_1000.npy\n",
      "0.153\n",
      "/media/3tb/chet/robo_exp/grasp_hard_train_all/tongue_chair_Widow250GraspHard_tongue_chair-v0_1000_save_all_noise_0.1_2022-04-29T06-23-09_1000.npy\n",
      "0.296\n",
      "/media/3tb/chet/robo_exp/grasp_hard_train_all/fountain_vase_Widow250GraspHard_fountain_vase-v0_1000_save_all_noise_0.1_2022-04-29T04-18-08_1000.npy\n",
      "0.288\n",
      "/media/3tb/chet/robo_exp/grasp_hard_train_all/aero_cylinder_Widow250GraspHard_aero_cylinder-v0_1000_save_all_noise_0.1_2022-04-29T08-04-37_1000.npy\n",
      "0.003\n",
      "/media/3tb/chet/robo_exp/grasp_hard_train_all/bullet_vase_Widow250GraspHard_bullet_vase-v0_1000_save_all_noise_0.1_2022-04-29T06-42-15_1000.npy\n",
      "0.173\n",
      "/media/3tb/chet/robo_exp/grasp_hard_train_all/smushed_dumbbell_Widow250GraspHard_smushed_dumbbell-v0_1000_save_all_noise_0.1_2022-04-29T04-27-21_1000.npy\n",
      "0.075\n",
      "/media/3tb/chet/robo_exp/grasp_hard_train_all/conic_bin_Widow250GraspHard_conic_bin-v0_1000_save_all_noise_0.1_2022-04-29T07-42-21_1000.npy\n",
      "0.296\n",
      "/media/3tb/chet/robo_exp/grasp_hard_train_all/trapezoidal_bin_Widow250GraspHard_trapezoidal_bin-v0_1000_save_all_noise_0.1_2022-04-29T06-56-46_1000.npy\n",
      "0.352\n",
      "/media/3tb/chet/robo_exp/grasp_hard_train_all/conic_cup_Widow250GraspHard_conic_cup-v0_1000_save_all_noise_0.1_2022-04-29T02-30-34_1000.npy\n",
      "0.093\n",
      "/media/3tb/chet/robo_exp/grasp_hard_train_all/t_cup_Widow250GraspHard_t_cup-v0_1000_save_all_noise_0.1_2022-04-29T07-22-48_1000.npy\n",
      "0.313\n",
      "/media/3tb/chet/robo_exp/grasp_hard_train_all/toilet_bowl_Widow250GraspHard_toilet_bowl-v0_1000_save_all_noise_0.1_2022-04-29T06-05-24_1000.npy\n",
      "0.39\n"
     ]
    }
   ],
   "source": [
    "train_hard_all_trajs_dir = '/media/3tb/chet/robo_exp/grasp_hard_train_all/*.npy'\n",
    "for f in glob.glob(train_hard_all_trajs_dir):\n",
    "    print(f)\n",
    "    print(success_rate(f))"
   ]
  },
  {
   "cell_type": "code",
   "execution_count": 9,
   "metadata": {},
   "outputs": [
    {
     "name": "stdout",
     "output_type": "stream",
     "text": [
      "/media/3tb/chet/robo_exp/trajs/grasp_hard_test_all/grill_trash_can_Widow250GraspHard_grill_trash_can-v0_1000_save_all_noise_0.1_2022-04-29T03-38-21_1000.npy\n",
      "0.124\n",
      "/media/3tb/chet/robo_exp/trajs/grasp_hard_test_all/two_handled_vase_Widow250GraspHard_two_handled_vase-v0_1000_save_all_noise_0.1_2022-04-29T02-04-37_1000.npy\n",
      "0.265\n",
      "/media/3tb/chet/robo_exp/trajs/grasp_hard_test_all/shed_Widow250GraspHard_shed-v0_1000_save_all_noise_0.1_2022-04-29T01-55-37_1000.npy\n",
      "0.056\n",
      "/media/3tb/chet/robo_exp/trajs/grasp_hard_test_all/square_rod_embellishment_Widow250GraspHard_square_rod_embellishment-v0_1000_save_all_noise_0.1_2022-04-29T05-32-05_1000.npy\n",
      "0.109\n",
      "/media/3tb/chet/robo_exp/trajs/grasp_hard_test_all/elliptical_capsule_Widow250GraspHard_elliptical_capsule-v0_1000_save_all_noise_0.1_2022-04-29T02-26-24_1000.npy\n",
      "0.056\n",
      "/media/3tb/chet/robo_exp/trajs/grasp_hard_test_all/sack_vase_Widow250GraspHard_sack_vase-v0_1000_save_all_noise_0.1_2022-04-29T03-47-52_1000.npy\n",
      "0.129\n",
      "/media/3tb/chet/robo_exp/trajs/grasp_hard_test_all/baseball_cap_Widow250GraspHard_baseball_cap-v0_1000_save_all_noise_0.1_2022-04-29T02-21-09_1000.npy\n",
      "0.002\n",
      "/media/3tb/chet/robo_exp/trajs/grasp_hard_test_all/curved_handle_cup_Widow250GraspHard_curved_handle_cup-v0_1000_save_all_noise_0.1_2022-04-29T05-36-20_1000.npy\n",
      "0.024\n",
      "/media/3tb/chet/robo_exp/trajs/grasp_hard_test_all/thick_wood_chair_Widow250GraspHard_thick_wood_chair-v0_1000_save_all_noise_0.1_2022-04-29T02-11-45_1000.npy\n",
      "0.213\n"
     ]
    }
   ],
   "source": [
    "test_hard_all_trajs_dir = '/media/3tb/chet/robo_exp/trajs/grasp_hard_test_all/*.npy'\n",
    "for f in glob.glob(test_hard_all_trajs_dir):\n",
    "    print(f)\n",
    "    print(success_rate(f))"
   ]
  },
  {
   "cell_type": "code",
   "execution_count": 11,
   "metadata": {},
   "outputs": [
    {
     "name": "stdout",
     "output_type": "stream",
     "text": [
      "/media/3tb/chet/robo_exp/trajs/rotate_grasp_hard_train_all/flat_bottom_sack_vase_Widow250GraspHard_flat_bottom_sack_vase-v0_1000_save_all_noise_0.1_2022-05-01T20-47-08_1000.npy\n",
      "0.016\n",
      "/media/3tb/chet/robo_exp/trajs/rotate_grasp_hard_train_all/conic_cup_Widow250GraspHard_conic_cup-v0_1000_save_all_noise_0.1_2022-05-01T19-00-38_1000.npy\n",
      "0.059\n",
      "/media/3tb/chet/robo_exp/trajs/rotate_grasp_hard_train_all/square_prism_bin_Widow250GraspHard_square_prism_bin-v0_1000_save_all_noise_0.1_2022-05-01T19-21-59_1000.npy\n",
      "0.056\n",
      "/media/3tb/chet/robo_exp/trajs/rotate_grasp_hard_train_all/ringed_cup_oversized_base_Widow250GraspHard_ringed_cup_oversized_base-v0_1000_save_all_noise_0.1_2022-05-01T21-44-39_1000.npy\n",
      "0.206\n",
      "/media/3tb/chet/robo_exp/trajs/rotate_grasp_hard_train_all/conic_bin_Widow250GraspHard_conic_bin-v0_1000_save_all_noise_0.1_2022-05-01T21-32-16_1000.npy\n",
      "0.219\n",
      "/media/3tb/chet/robo_exp/trajs/rotate_grasp_hard_train_all/bunsen_burner_Widow250GraspHard_bunsen_burner-v0_1000_save_all_noise_0.1_2022-05-01T21-38-50_1000.npy\n",
      "0.265\n",
      "/media/3tb/chet/robo_exp/trajs/rotate_grasp_hard_train_all/pacifier_vase_Widow250GraspHard_pacifier_vase-v0_1000_save_all_noise_0.1_2022-05-01T19-52-22_1000.npy\n",
      "0.174\n",
      "/media/3tb/chet/robo_exp/trajs/rotate_grasp_hard_train_all/bullet_vase_Widow250GraspHard_bullet_vase-v0_1000_save_all_noise_0.1_2022-05-01T20-37-27_1000.npy\n",
      "0.058\n",
      "/media/3tb/chet/robo_exp/trajs/rotate_grasp_hard_train_all/t_cup_Widow250GraspHard_t_cup-v0_1000_save_all_noise_0.1_2022-05-01T21-14-25_1000.npy\n",
      "0.383\n",
      "/media/3tb/chet/robo_exp/trajs/rotate_grasp_hard_train_all/stalagcite_chunk_Widow250GraspHard_stalagcite_chunk-v0_1000_save_all_noise_0.1_2022-05-01T19-38-05_1000.npy\n",
      "0.099\n",
      "/media/3tb/chet/robo_exp/trajs/rotate_grasp_hard_train_all/toilet_bowl_Widow250GraspHard_toilet_bowl-v0_1000_save_all_noise_0.1_2022-05-01T20-05-54_1000.npy\n",
      "0.279\n",
      "/media/3tb/chet/robo_exp/trajs/rotate_grasp_hard_train_all/jar_Widow250GraspHard_jar-v0_1000_save_all_noise_0.1_2022-05-01T21-36-10_1000.npy\n",
      "0.055\n",
      "/media/3tb/chet/robo_exp/trajs/rotate_grasp_hard_train_all/narrow_tray_Widow250GraspHard_narrow_tray-v0_1000_save_all_noise_0.1_2022-05-01T19-26-53_1000.npy\n",
      "0.155\n",
      "/media/3tb/chet/robo_exp/trajs/rotate_grasp_hard_train_all/glass_half_gallon_Widow250GraspHard_glass_half_gallon-v0_1000_save_all_noise_0.1_2022-05-01T20-42-56_1000.npy\n",
      "0.079\n",
      "/media/3tb/chet/robo_exp/trajs/rotate_grasp_hard_train_all/box_sofa_Widow250GraspHard_box_sofa-v0_1000_save_all_noise_0.1_2022-05-01T21-24-03_1000.npy\n",
      "0.127\n",
      "/media/3tb/chet/robo_exp/trajs/rotate_grasp_hard_train_all/hex_deep_bowl_Widow250GraspHard_hex_deep_bowl-v0_1000_save_all_noise_0.1_2022-05-01T19-13-02_1000.npy\n",
      "0.183\n",
      "/media/3tb/chet/robo_exp/trajs/rotate_grasp_hard_train_all/crooked_lid_trash_can_Widow250GraspHard_crooked_lid_trash_can-v0_1000_save_all_noise_0.1_2022-05-01T20-01-52_1000.npy\n",
      "0.166\n",
      "/media/3tb/chet/robo_exp/trajs/rotate_grasp_hard_train_all/fountain_vase_Widow250GraspHard_fountain_vase-v0_1000_save_all_noise_0.1_2022-05-01T19-04-32_1000.npy\n",
      "0.207\n",
      "/media/3tb/chet/robo_exp/trajs/rotate_grasp_hard_train_all/short_handle_cup_Widow250GraspHard_short_handle_cup-v0_1000_save_all_noise_0.1_2022-05-01T20-33-19_1000.npy\n",
      "0.106\n",
      "/media/3tb/chet/robo_exp/trajs/rotate_grasp_hard_train_all/pear_ringed_vase_Widow250GraspHard_pear_ringed_vase-v0_1000_save_all_noise_0.1_2022-05-01T20-29-04_1000.npy\n",
      "0.073\n",
      "/media/3tb/chet/robo_exp/trajs/rotate_grasp_hard_train_all/smushed_dumbbell_Widow250GraspHard_smushed_dumbbell-v0_1000_save_all_noise_0.1_2022-05-01T19-17-15_1000.npy\n",
      "0.054\n",
      "/media/3tb/chet/robo_exp/trajs/rotate_grasp_hard_train_all/flowery_half_donut_Widow250GraspHard_flowery_half_donut-v0_1000_save_all_noise_0.1_2022-05-01T21-09-56_1000.npy\n",
      "0.098\n",
      "/media/3tb/chet/robo_exp/trajs/rotate_grasp_hard_train_all/modern_canoe_Widow250GraspHard_modern_canoe-v0_1000_save_all_noise_0.1_2022-05-01T20-24-43_1000.npy\n",
      "0.118\n",
      "/media/3tb/chet/robo_exp/trajs/rotate_grasp_hard_train_all/long_vase_Widow250GraspHard_long_vase-v0_1000_save_all_noise_0.1_2022-05-01T21-41-32_1000.npy\n",
      "0.129\n",
      "/media/3tb/chet/robo_exp/trajs/rotate_grasp_hard_train_all/tongue_chair_Widow250GraspHard_tongue_chair-v0_1000_save_all_noise_0.1_2022-05-01T20-20-20_1000.npy\n",
      "0.181\n",
      "/media/3tb/chet/robo_exp/trajs/rotate_grasp_hard_train_all/circular_table_Widow250GraspHard_circular_table-v0_1000_save_all_noise_0.1_2022-05-01T19-08-35_1000.npy\n",
      "0.135\n",
      "/media/3tb/chet/robo_exp/trajs/rotate_grasp_hard_train_all/aero_cylinder_Widow250GraspHard_aero_cylinder-v0_1000_save_all_noise_0.1_2022-05-01T21-47-43_1000.npy\n",
      "0.056\n",
      "/media/3tb/chet/robo_exp/trajs/rotate_grasp_hard_train_all/vintage_canoe_Widow250GraspHard_vintage_canoe-v0_1000_save_all_noise_0.1_2022-05-01T20-57-53_1000.npy\n",
      "0.068\n",
      "/media/3tb/chet/robo_exp/trajs/rotate_grasp_hard_train_all/bathtub_Widow250GraspHard_bathtub-v0_1000_save_all_noise_0.1_2022-05-01T21-06-01_1000.npy\n",
      "0.132\n",
      "/media/3tb/chet/robo_exp/trajs/rotate_grasp_hard_train_all/colunnade_top_Widow250GraspHard_colunnade_top-v0_1000_save_all_noise_0.1_2022-05-01T19-30-54_1000.npy\n",
      "0.179\n",
      "/media/3tb/chet/robo_exp/trajs/rotate_grasp_hard_train_all/pepsi_bottle_Widow250GraspHard_pepsi_bottle-v0_1000_save_all_noise_0.1_2022-05-01T20-11-16_1000.npy\n",
      "0.1\n",
      "/media/3tb/chet/robo_exp/trajs/rotate_grasp_hard_train_all/two_layered_lampshade_Widow250GraspHard_two_layered_lampshade-v0_1000_save_all_noise_0.1_2022-05-01T21-28-03_1000.npy\n",
      "0.018\n",
      "/media/3tb/chet/robo_exp/trajs/rotate_grasp_hard_train_all/trapezoidal_bin_Widow250GraspHard_trapezoidal_bin-v0_1000_save_all_noise_0.1_2022-05-01T20-51-23_1000.npy\n",
      "0.193\n",
      "/media/3tb/chet/robo_exp/trajs/rotate_grasp_hard_train_all/cookie_circular_lidless_tin_Widow250GraspHard_cookie_circular_lidless_tin-v0_1000_save_all_noise_0.1_2022-05-01T21-19-36_1000.npy\n",
      "0.041\n",
      "/media/3tb/chet/robo_exp/trajs/rotate_grasp_hard_train_all/beehive_funnel_Widow250GraspHard_beehive_funnel-v0_1000_save_all_noise_0.1_2022-05-01T19-56-58_1000.npy\n",
      "0.094\n",
      "/media/3tb/chet/robo_exp/trajs/rotate_grasp_hard_train_all/bongo_drum_bowl_Widow250GraspHard_bongo_drum_bowl-v0_1000_save_all_noise_0.1_2022-05-01T19-44-12_1000.npy\n",
      "0.173\n"
     ]
    }
   ],
   "source": [
    "rotate_grasp_hard_train_all_trajs_dir = '/media/3tb/chet/robo_exp/trajs/rotate_grasp_hard_train_all/*.npy'\n",
    "for f in glob.glob(rotate_grasp_hard_train_all_trajs_dir):\n",
    "    print(f)\n",
    "    print(success_rate(f))"
   ]
  },
  {
   "cell_type": "code",
   "execution_count": 12,
   "metadata": {},
   "outputs": [
    {
     "name": "stdout",
     "output_type": "stream",
     "text": [
      "/media/3tb/chet/robo_exp/trajs/rotate_grasp_hard_test_all/baseball_cap_Widow250GraspHard_baseball_cap-v0_1000_save_all_noise_0.1_2022-05-01T22-17-24_1000.npy\n",
      "0.006\n",
      "/media/3tb/chet/robo_exp/trajs/rotate_grasp_hard_test_all/grill_trash_can_Widow250GraspHard_grill_trash_can-v0_1000_save_all_noise_0.1_2022-05-01T21-57-22_1000.npy\n",
      "0.33\n",
      "/media/3tb/chet/robo_exp/trajs/rotate_grasp_hard_test_all/thick_wood_chair_Widow250GraspHard_thick_wood_chair-v0_1000_save_all_noise_0.1_2022-05-01T22-11-49_1000.npy\n",
      "0.181\n",
      "/media/3tb/chet/robo_exp/trajs/rotate_grasp_hard_test_all/shed_Widow250GraspHard_shed-v0_1000_save_all_noise_0.1_2022-05-01T22-02-16_1000.npy\n",
      "0.016\n",
      "/media/3tb/chet/robo_exp/trajs/rotate_grasp_hard_test_all/sack_vase_Widow250GraspHard_sack_vase-v0_1000_save_all_noise_0.1_2022-05-01T22-05-01_1000.npy\n",
      "0.061\n",
      "/media/3tb/chet/robo_exp/trajs/rotate_grasp_hard_test_all/two_handled_vase_Widow250GraspHard_two_handled_vase-v0_1000_save_all_noise_0.1_2022-05-01T22-08-01_1000.npy\n",
      "0.306\n",
      "/media/3tb/chet/robo_exp/trajs/rotate_grasp_hard_test_all/elliptical_capsule_Widow250GraspHard_elliptical_capsule-v0_1000_save_all_noise_0.1_2022-05-01T22-20-28_1000.npy\n",
      "0.02\n",
      "/media/3tb/chet/robo_exp/trajs/rotate_grasp_hard_test_all/curved_handle_cup_Widow250GraspHard_curved_handle_cup-v0_1000_save_all_noise_0.1_2022-05-01T22-14-36_1000.npy\n",
      "0.053\n",
      "/media/3tb/chet/robo_exp/trajs/rotate_grasp_hard_test_all/square_rod_embellishment_Widow250GraspHard_square_rod_embellishment-v0_1000_save_all_noise_0.1_2022-05-01T21-54-43_1000.npy\n",
      "0.049\n"
     ]
    }
   ],
   "source": [
    "rotate_grasp_hard_test_all_trajs_dir = '/media/3tb/chet/robo_exp/trajs/rotate_grasp_hard_test_all/*.npy'\n",
    "for f in glob.glob(rotate_grasp_hard_test_all_trajs_dir):\n",
    "    print(f)\n",
    "    print(success_rate(f))"
   ]
  },
  {
   "cell_type": "code",
   "execution_count": null,
   "metadata": {},
   "outputs": [],
   "source": [
    "rotate_grasp_hard_test_all_trajs_dir = '/media/3tb/chet/robo_exp/trajs/rotate_grasp_hard_tough_all/*.npy'\n",
    "for f in glob.glob(rotate_grasp_hard_test_all_trajs_dir):\n",
    "    print(f)\n",
    "    print(success_rate(f))"
   ]
  }
 ],
 "metadata": {
  "interpreter": {
   "hash": "aab32ad80a3391f642fdb398b940a49a8a7e8bd7856505b8c03e2d8426702f1f"
  },
  "kernelspec": {
   "display_name": "Python 3.6.5 ('cql-env': conda)",
   "language": "python",
   "name": "python3"
  },
  "language_info": {
   "codemirror_mode": {
    "name": "ipython",
    "version": 3
   },
   "file_extension": ".py",
   "mimetype": "text/x-python",
   "name": "python",
   "nbconvert_exporter": "python",
   "pygments_lexer": "ipython3",
   "version": "3.6.5"
  },
  "orig_nbformat": 4
 },
 "nbformat": 4,
 "nbformat_minor": 2
}
