{
 "cells": [
  {
   "cell_type": "code",
   "execution_count": 7,
   "metadata": {},
   "outputs": [],
   "source": [
    "import numpy as np\n",
    "import matplotlib.pyplot as plt"
   ]
  },
  {
   "cell_type": "code",
   "execution_count": 8,
   "metadata": {},
   "outputs": [],
   "source": [
    "def view_traj(dataset_path, traj_ind=0):\n",
    "    dataset = np.load(dataset_path, allow_pickle=True)\n",
    "    traj_observations = dataset[traj_ind]['observations']\n",
    "    for obs in traj_observations:\n",
    "        plt.imshow(obs['image'])\n",
    "        plt.show()"
   ]
  },
  {
   "cell_type": "code",
   "execution_count": 9,
   "metadata": {},
   "outputs": [],
   "source": [
    "def success_rate(trajs_path):\n",
    "    trajs = np.load(trajs_path, allow_pickle=True)\n",
    "    successes = 0\n",
    "    for traj in trajs:\n",
    "        if any(info['grasp_success_target'] for info in traj['env_infos']):\n",
    "            successes += 1\n",
    "    return successes/len(trajs)"
   ]
  },
  {
   "cell_type": "code",
   "execution_count": 10,
   "metadata": {},
   "outputs": [],
   "source": [
    "train_trajs_dir = '/media/3tb/chet/robo_exp/grasp_train_trajs/'\n",
    "easy_trajs = f'{train_trajs_dir}Easy_Widow250GraspEasy_circular_table-v0_700_save_all_noise_0.1_2022-04-26T15-20-35_700.npy'\n",
    "big_trajs = f'{train_trajs_dir}Big_Widow250GraspBig_circular_table-v0_700_save_all_noise_0.1_2022-04-26T15-22-44_700.npy'\n",
    "loc_trajs = f'{train_trajs_dir}Loc_Widow250GraspLoc_circular_table-v0_700_save_all_noise_0.1_2022-04-26T15-27-30_700.npy'\n",
    "orient_trajs = f'{train_trajs_dir}Orient_Widow250GraspOrient_circular_table-v0_700_save_all_noise_0.1_2022-04-26T15-25-16_700.npy'\n",
    "hard_trajs = f'{train_trajs_dir}Hard_Widow250GraspHard_circular_table-v0_700_save_all_noise_0.1_2022-04-26T15-29-43_560.npy'"
   ]
  },
  {
   "cell_type": "markdown",
   "metadata": {},
   "source": [
    "Scripted Sucess Rates"
   ]
  },
  {
   "cell_type": "code",
   "execution_count": 11,
   "metadata": {},
   "outputs": [
    {
     "name": "stdout",
     "output_type": "stream",
     "text": [
      "0.7328571428571429\n",
      "0.7657142857142857\n",
      "0.65\n",
      "0.7285714285714285\n",
      "0.16428571428571428\n"
     ]
    }
   ],
   "source": [
    "print(success_rate(easy_trajs))\n",
    "print(success_rate(big_trajs))\n",
    "print(success_rate(loc_trajs))\n",
    "print(success_rate(orient_trajs))\n",
    "print(success_rate(hard_trajs))"
   ]
  }
 ],
 "metadata": {
  "interpreter": {
   "hash": "aab32ad80a3391f642fdb398b940a49a8a7e8bd7856505b8c03e2d8426702f1f"
  },
  "kernelspec": {
   "display_name": "Python 3.6.5 ('cql-env': conda)",
   "language": "python",
   "name": "python3"
  },
  "language_info": {
   "codemirror_mode": {
    "name": "ipython",
    "version": 3
   },
   "file_extension": ".py",
   "mimetype": "text/x-python",
   "name": "python",
   "nbconvert_exporter": "python",
   "pygments_lexer": "ipython3",
   "version": "3.6.5"
  },
  "orig_nbformat": 4
 },
 "nbformat": 4,
 "nbformat_minor": 2
}
