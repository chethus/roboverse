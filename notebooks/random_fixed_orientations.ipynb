{
 "cells": [
  {
   "cell_type": "code",
   "execution_count": 1,
   "metadata": {},
   "outputs": [],
   "source": [
    "from roboverse.assets.shapenet_object_lists import OBJECT_ORIENTATIONS\n",
    "from hashlib import sha1"
   ]
  },
  {
   "cell_type": "code",
   "execution_count": 2,
   "metadata": {},
   "outputs": [],
   "source": [
    "orientation_choices = (\n",
    "    (0, 0.707, 0.707, 0),\n",
    "    (0, 0, 1, 0),\n",
    "    (0, 0.707, 0, 0.707),\n",
    "    (0, -0.707, 0.707, 0),\n",
    "    (0.5, 0.5, 0.5, 0.5),\n",
    "    (0, 0, 0.707, 0.707)\n",
    ")"
   ]
  },
  {
   "cell_type": "code",
   "execution_count": 13,
   "metadata": {},
   "outputs": [],
   "source": [
    "def fixed_rand_orient(obj_name):\n",
    "    ind = int(sha1(obj_name.encode('utf-8')).hexdigest(), 16) % len(orientation_choices)\n",
    "    return orientation_choices[ind]"
   ]
  },
  {
   "cell_type": "code",
   "execution_count": 14,
   "metadata": {},
   "outputs": [],
   "source": [
    "fixed_rand_orientations = {k:fixed_rand_orient(k) for k in OBJECT_ORIENTATIONS.keys()}"
   ]
  },
  {
   "cell_type": "code",
   "execution_count": 16,
   "metadata": {},
   "outputs": [
    {
     "name": "stdout",
     "output_type": "stream",
     "text": [
      "{'conic_cup': (0, 0, 0.707, 0.707), 'ball': (0, 0.707, 0, 0.707), 'sack_vase': (0, 0, 1, 0), 'fountain_vase': (0, -0.707, 0.707, 0), 'shed': (0, 0.707, 0, 0.707), 'circular_table': (0, 0, 1, 0), 'hex_deep_bowl': (0.5, 0.5, 0.5, 0.5), 'smushed_dumbbell': (0, 0.707, 0, 0.707), 'square_prism_bin': (0.5, 0.5, 0.5, 0.5), 'narrow_tray': (0, 0.707, 0, 0.707), 'colunnade_top': (0, 0.707, 0.707, 0), 'stalagcite_chunk': (0, 0.707, 0.707, 0), 'bongo_drum_bowl': (0, 0, 1, 0), 'pacifier_vase': (0.5, 0.5, 0.5, 0.5), 'beehive_funnel': (0, -0.707, 0.707, 0), 'crooked_lid_trash_can': (0, 0, 1, 0), 'double_l_faucet': (0, 0.707, 0.707, 0), 'toilet_bowl': (0, 0.707, 0.707, 0), 'pepsi_bottle': (0, 0.707, 0.707, 0), 'two_handled_vase': (0, 0.707, 0, 0.707), 'tongue_chair': (0, 0.707, 0.707, 0), 'oil_tanker': (0, 0.707, 0.707, 0), 'thick_wood_chair': (0, -0.707, 0.707, 0), 'modern_canoe': (0, 0, 0.707, 0.707), 'pear_ringed_vase': (0.5, 0.5, 0.5, 0.5), 'short_handle_cup': (0, 0.707, 0, 0.707), 'curved_handle_cup': (0, -0.707, 0.707, 0), 'bullet_vase': (0, 0, 1, 0), 'glass_half_gallon': (0, 0, 1, 0), 'flat_bottom_sack_vase': (0.5, 0.5, 0.5, 0.5), 'teepee': (0, 0.707, 0, 0.707), 'trapezoidal_bin': (0, -0.707, 0.707, 0), 'vintage_canoe': (0, 0.707, 0.707, 0), 'bathtub': (0, 0, 1, 0), 'flowery_half_donut': (0.5, 0.5, 0.5, 0.5), 't_cup': (0, 0, 1, 0), 'cookie_circular_lidless_tin': (0, -0.707, 0.707, 0), 'box_sofa': (0, -0.707, 0.707, 0), 'baseball_cap': (0.5, 0.5, 0.5, 0.5), 'two_layered_lampshade': (0, 0.707, 0, 0.707), 'conic_bin': (0, -0.707, 0.707, 0), 'jar': (0.5, 0.5, 0.5, 0.5), 'gatorade': (0, 0.707, 0.707, 0), 'bunsen_burner': (0, 0, 0.707, 0.707), 'long_vase': (0, 0.707, 0, 0.707), 'ringed_cup_oversized_base': (0, 0.707, 0, 0.707), 'square_rod_embellishment': (0.5, 0.5, 0.5, 0.5), 'elliptical_capsule': (0, -0.707, 0.707, 0), 'aero_cylinder': (0, 0.707, 0, 0.707), 'grill_trash_can': (0.5, 0.5, 0.5, 0.5)}\n"
     ]
    }
   ],
   "source": [
    "print(repr(fixed_rand_orientations))"
   ]
  },
  {
   "cell_type": "code",
   "execution_count": null,
   "metadata": {},
   "outputs": [],
   "source": []
  }
 ],
 "metadata": {
  "interpreter": {
   "hash": "aab32ad80a3391f642fdb398b940a49a8a7e8bd7856505b8c03e2d8426702f1f"
  },
  "kernelspec": {
   "display_name": "Python 3.6.5 ('cql-env': conda)",
   "language": "python",
   "name": "python3"
  },
  "language_info": {
   "codemirror_mode": {
    "name": "ipython",
    "version": 3
   },
   "file_extension": ".py",
   "mimetype": "text/x-python",
   "name": "python",
   "nbconvert_exporter": "python",
   "pygments_lexer": "ipython3",
   "version": "3.6.5"
  },
  "orig_nbformat": 4
 },
 "nbformat": 4,
 "nbformat_minor": 2
}
