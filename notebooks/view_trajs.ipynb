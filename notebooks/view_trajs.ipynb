{
 "cells": [
  {
   "cell_type": "code",
   "execution_count": 2,
   "metadata": {},
   "outputs": [],
   "source": [
    "import numpy as np\n",
    "import matplotlib.pyplot as plt\n",
    "import glob\n",
    "from collections import defaultdict"
   ]
  },
  {
   "cell_type": "code",
   "execution_count": 3,
   "metadata": {},
   "outputs": [],
   "source": [
    "def view_traj(dataset_path, traj_ind=0):\n",
    "    dataset = np.load(dataset_path, allow_pickle=True)\n",
    "    traj_observations = dataset[traj_ind]['observations']\n",
    "    for obs in traj_observations:\n",
    "        plt.imshow(obs['image'])\n",
    "        plt.show()"
   ]
  },
  {
   "cell_type": "code",
   "execution_count": 4,
   "metadata": {},
   "outputs": [],
   "source": [
    "def success_rate(trajs_path):\n",
    "    trajs = np.load(trajs_path, allow_pickle=True)\n",
    "    successes = 0\n",
    "    for traj in trajs:\n",
    "        if any(info['grasp_success_target'] for info in traj['env_infos']):\n",
    "            successes += 1\n",
    "    return successes/len(trajs)\n",
    "\n",
    "def success_by_orientation(trajs_path):\n",
    "    trajs = np.load(trajs_path, allow_pickle=True)\n",
    "    orientation_choices = np.array((\n",
    "        (0, 0.707, 0.707, 0),\n",
    "        (0, 0, 1, 0),\n",
    "        (0, 0.707, 0, 0.707),\n",
    "        (0, -0.707, 0.707, 0),\n",
    "        (0.5, 0.5, 0.5, 0.5),\n",
    "        (0, 0, 0.707, 0.707)\n",
    "    ))\n",
    "    orientation_successes = defaultdict(int)\n",
    "    orientation_totals = defaultdict(int)\n",
    "    for traj in trajs:\n",
    "        traj_orientation  = traj['observations'][0]['object_orientation']\n",
    "        orientation_idx = np.argmin(np.linalg.norm(orientation_choices - traj_orientation, axis=1))\n",
    "        orientation_totals[orientation_idx] += 1\n",
    "        if any(info['grasp_success_target'] for info in traj['env_infos']):\n",
    "            orientation_successes[orientation_idx] += 1\n",
    "    for k, v in orientation_totals.items():\n",
    "        print(orientation_successes[k]/v)"
   ]
  },
  {
   "cell_type": "markdown",
   "metadata": {},
   "source": [
    "Train Object Success Rates"
   ]
  },
  {
   "cell_type": "code",
   "execution_count": 6,
   "metadata": {},
   "outputs": [
    {
     "name": "stdout",
     "output_type": "stream",
     "text": [
      "/media/3tb/chet/robo_exp/trajs/grasp_bigloc_train_all/t_cup_Widow250GraspBigLoc_t_cup-v0_1000_save_all_noise_0.1_2022-05-04T06-54-40_900.npy\n",
      "0.16666666666666666\n",
      "/media/3tb/chet/robo_exp/trajs/grasp_bigloc_train_all/hex_deep_bowl_Widow250GraspBigLoc_hex_deep_bowl-v0_1000_save_all_noise_0.1_2022-05-04T03-30-24_1000.npy\n",
      "0.015\n",
      "/media/3tb/chet/robo_exp/trajs/grasp_bigloc_train_all/bunsen_burner_Widow250GraspBigLoc_bunsen_burner-v0_1000_save_all_noise_0.1_2022-05-04T07-37-40_900.npy\n",
      "0.2677777777777778\n",
      "/media/3tb/chet/robo_exp/trajs/grasp_bigloc_train_all/toilet_bowl_Widow250GraspBigLoc_toilet_bowl-v0_1000_save_all_noise_0.1_2022-05-04T04-56-51_1000.npy\n",
      "0.355\n",
      "/media/3tb/chet/robo_exp/trajs/grasp_bigloc_train_all/bathtub_Widow250GraspBigLoc_bathtub-v0_1000_save_all_noise_0.1_2022-05-04T06-40-29_1000.npy\n",
      "0.252\n",
      "/media/3tb/chet/robo_exp/trajs/grasp_bigloc_train_all/vintage_canoe_Widow250GraspBigLoc_vintage_canoe-v0_1000_save_all_noise_0.1_2022-05-04T06-27-18_1000.npy\n",
      "0.22\n",
      "/media/3tb/chet/robo_exp/trajs/grasp_bigloc_train_all/beehive_funnel_Widow250GraspBigLoc_beehive_funnel-v0_1000_save_all_noise_0.1_2022-05-04T04-40-41_1000.npy\n",
      "0.132\n",
      "/media/3tb/chet/robo_exp/trajs/grasp_bigloc_train_all/tongue_chair_Widow250GraspBigLoc_tongue_chair-v0_1000_save_all_noise_0.1_2022-05-04T05-25-21_1000.npy\n",
      "0.298\n",
      "/media/3tb/chet/robo_exp/trajs/grasp_bigloc_train_all/short_handle_cup_Widow250GraspBigLoc_short_handle_cup-v0_1000_save_all_noise_0.1_2022-05-04T05-47-42_1000.npy\n",
      "0.06\n",
      "/media/3tb/chet/robo_exp/trajs/grasp_bigloc_train_all/fountain_vase_Widow250GraspBigLoc_fountain_vase-v0_1000_save_all_noise_0.1_2022-05-04T03-17-09_1000.npy\n",
      "0.576\n",
      "/media/3tb/chet/robo_exp/trajs/grasp_bigloc_train_all/trapezoidal_bin_Widow250GraspBigLoc_trapezoidal_bin-v0_1000_save_all_noise_0.1_2022-05-04T06-13-15_1000.npy\n",
      "0.18\n",
      "/media/3tb/chet/robo_exp/trajs/grasp_bigloc_train_all/colunnade_top_Widow250GraspBigLoc_colunnade_top-v0_1000_save_all_noise_0.1_2022-05-04T03-57-35_1000.npy\n",
      "0.343\n",
      "/media/3tb/chet/robo_exp/trajs/grasp_bigloc_train_all/stalagcite_chunk_Widow250GraspBigLoc_stalagcite_chunk-v0_1000_save_all_noise_0.1_2022-05-04T04-08-47_1000.npy\n",
      "0.267\n",
      "/media/3tb/chet/robo_exp/trajs/grasp_bigloc_train_all/pacifier_vase_Widow250GraspBigLoc_pacifier_vase-v0_1000_save_all_noise_0.1_2022-05-04T04-33-21_1000.npy\n",
      "0.248\n",
      "/media/3tb/chet/robo_exp/trajs/grasp_bigloc_train_all/jar_Widow250GraspBigLoc_jar-v0_1000_save_all_noise_0.1_2022-05-04T07-31-56_1000.npy\n",
      "0.034\n",
      "/media/3tb/chet/robo_exp/trajs/grasp_bigloc_train_all/glass_half_gallon_Widow250GraspBigLoc_glass_half_gallon-v0_1000_save_all_noise_0.1_2022-05-04T06-01-03_1000.npy\n",
      "0.227\n",
      "/media/3tb/chet/robo_exp/trajs/grasp_bigloc_train_all/pepsi_bottle_Widow250GraspBigLoc_pepsi_bottle-v0_1000_save_all_noise_0.1_2022-05-04T05-06-46_1000.npy\n",
      "0.284\n",
      "/media/3tb/chet/robo_exp/trajs/grasp_bigloc_train_all/narrow_tray_Widow250GraspBigLoc_narrow_tray-v0_1000_save_all_noise_0.1_2022-05-04T03-51-35_1000.npy\n",
      "0.287\n",
      "/media/3tb/chet/robo_exp/trajs/grasp_bigloc_train_all/aero_cylinder_Widow250GraspBigLoc_aero_cylinder-v0_1000_save_all_noise_0.1_2022-05-04T08-02-06_1000.npy\n",
      "0.105\n",
      "/media/3tb/chet/robo_exp/trajs/grasp_bigloc_train_all/long_vase_Widow250GraspBigLoc_long_vase-v0_1000_save_all_noise_0.1_2022-05-04T07-43-40_1000.npy\n",
      "0.382\n",
      "/media/3tb/chet/robo_exp/trajs/grasp_bigloc_train_all/modern_canoe_Widow250GraspBigLoc_modern_canoe-v0_1000_save_all_noise_0.1_2022-05-04T05-32-08_1000.npy\n",
      "0.291\n",
      "/media/3tb/chet/robo_exp/trajs/grasp_bigloc_train_all/smushed_dumbbell_Widow250GraspBigLoc_smushed_dumbbell-v0_1000_save_all_noise_0.1_2022-05-04T03-36-19_1000.npy\n",
      "0.161\n",
      "/media/3tb/chet/robo_exp/trajs/grasp_bigloc_train_all/conic_cup_Widow250GraspBigLoc_conic_cup-v0_1000_save_all_noise_0.1_2022-05-04T03-11-30_1000.npy\n",
      "0.11\n",
      "/media/3tb/chet/robo_exp/trajs/grasp_bigloc_train_all/bongo_drum_bowl_Widow250GraspBigLoc_bongo_drum_bowl-v0_1000_save_all_noise_0.1_2022-05-04T04-19-11_1000.npy\n",
      "0.025\n",
      "/media/3tb/chet/robo_exp/trajs/grasp_bigloc_train_all/conic_bin_Widow250GraspBigLoc_conic_bin-v0_1000_save_all_noise_0.1_2022-05-04T07-24-32_1000.npy\n",
      "0.079\n",
      "/media/3tb/chet/robo_exp/trajs/grasp_bigloc_train_all/pear_ringed_vase_Widow250GraspBigLoc_pear_ringed_vase-v0_1000_save_all_noise_0.1_2022-05-04T05-39-57_1000.npy\n",
      "0.177\n",
      "/media/3tb/chet/robo_exp/trajs/grasp_bigloc_train_all/flat_bottom_sack_vase_Widow250GraspBigLoc_flat_bottom_sack_vase-v0_1000_save_all_noise_0.1_2022-05-04T06-06-54_1000.npy\n",
      "0.028\n",
      "/media/3tb/chet/robo_exp/trajs/grasp_bigloc_train_all/box_sofa_Widow250GraspBigLoc_box_sofa-v0_1000_save_all_noise_0.1_2022-05-04T07-10-42_1000.npy\n",
      "0.216\n",
      "/media/3tb/chet/robo_exp/trajs/grasp_bigloc_train_all/flowery_half_donut_Widow250GraspBigLoc_flowery_half_donut-v0_1000_save_all_noise_0.1_2022-05-04T06-46-46_1000.npy\n",
      "0.142\n",
      "/media/3tb/chet/robo_exp/trajs/grasp_bigloc_train_all/bullet_vase_Widow250GraspBigLoc_bullet_vase-v0_1000_save_all_noise_0.1_2022-05-04T05-53-57_1000.npy\n",
      "0.231\n",
      "/media/3tb/chet/robo_exp/trajs/grasp_bigloc_train_all/crooked_lid_trash_can_Widow250GraspBigLoc_crooked_lid_trash_can-v0_1000_save_all_noise_0.1_2022-05-04T04-49-34_1000.npy\n",
      "0.208\n",
      "/media/3tb/chet/robo_exp/trajs/grasp_bigloc_train_all/ringed_cup_oversized_base_Widow250GraspBigLoc_ringed_cup_oversized_base-v0_1000_save_all_noise_0.1_2022-05-04T07-53-46_1000.npy\n",
      "0.384\n",
      "/media/3tb/chet/robo_exp/trajs/grasp_bigloc_train_all/cookie_circular_lidless_tin_Widow250GraspBigLoc_cookie_circular_lidless_tin-v0_1000_save_all_noise_0.1_2022-05-04T07-03-03_1000.npy\n",
      "0.119\n",
      "/media/3tb/chet/robo_exp/trajs/grasp_bigloc_train_all/circular_table_Widow250GraspBigLoc_circular_table-v0_1000_save_all_noise_0.1_2022-05-04T03-23-46_1000.npy\n",
      "0.404\n",
      "/media/3tb/chet/robo_exp/trajs/grasp_bigloc_train_all/square_prism_bin_Widow250GraspBigLoc_square_prism_bin-v0_1000_save_all_noise_0.1_2022-05-04T03-43-43_1000.npy\n",
      "0.104\n",
      "/media/3tb/chet/robo_exp/trajs/grasp_bigloc_train_all/two_layered_lampshade_Widow250GraspBigLoc_two_layered_lampshade-v0_1000_save_all_noise_0.1_2022-05-04T07-17-03_1000.npy\n",
      "0.045\n"
     ]
    }
   ],
   "source": [
    "train_bigloc_all_trajs_dir = '/media/3tb/chet/robo_exp/trajs/grasp_bigloc_train_all/*.npy'\n",
    "for f in glob.glob(train_bigloc_all_trajs_dir):\n",
    "    print(f)\n",
    "    print(success_rate(f))"
   ]
  },
  {
   "cell_type": "markdown",
   "metadata": {},
   "source": [
    "Test Object Success Rates"
   ]
  },
  {
   "cell_type": "code",
   "execution_count": 9,
   "metadata": {},
   "outputs": [
    {
     "name": "stdout",
     "output_type": "stream",
     "text": [
      "/media/3tb/chet/robo_exp/trajs/grasp_bigloc_test_all/shed_Widow250GraspBigLoc_shed-v0_1000_save_all_noise_0.1_2022-05-04T02-23-55_1000.npy\n",
      "0.04\n",
      "/media/3tb/chet/robo_exp/trajs/grasp_bigloc_test_all/sack_vase_Widow250GraspBigLoc_sack_vase-v0_1000_save_all_noise_0.1_2022-05-04T02-30-19_1000.npy\n",
      "0.108\n",
      "/media/3tb/chet/robo_exp/trajs/grasp_bigloc_test_all/square_rod_embellishment_Widow250GraspBigLoc_square_rod_embellishment-v0_1000_save_all_noise_0.1_2022-05-04T02-01-33_1000.npy\n",
      "0.289\n",
      "/media/3tb/chet/robo_exp/trajs/grasp_bigloc_test_all/thick_wood_chair_Widow250GraspBigLoc_thick_wood_chair-v0_1000_save_all_noise_0.1_2022-05-04T02-46-45_1000.npy\n",
      "0.267\n",
      "/media/3tb/chet/robo_exp/trajs/grasp_bigloc_test_all/baseball_cap_Widow250GraspBigLoc_baseball_cap-v0_1000_save_all_noise_0.1_2022-05-04T02-59-45_1000.npy\n",
      "0.097\n",
      "/media/3tb/chet/robo_exp/trajs/grasp_bigloc_test_all/curved_handle_cup_Widow250GraspBigLoc_curved_handle_cup-v0_1000_save_all_noise_0.1_2022-05-04T02-52-48_1000.npy\n",
      "0.122\n",
      "/media/3tb/chet/robo_exp/trajs/grasp_bigloc_test_all/elliptical_capsule_Widow250GraspBigLoc_elliptical_capsule-v0_1000_save_all_noise_0.1_2022-05-04T03-06-02_1000.npy\n",
      "0.152\n",
      "/media/3tb/chet/robo_exp/trajs/grasp_bigloc_test_all/two_handled_vase_Widow250GraspBigLoc_two_handled_vase-v0_1000_save_all_noise_0.1_2022-05-04T02-37-44_1000.npy\n",
      "0.364\n",
      "/media/3tb/chet/robo_exp/trajs/grasp_bigloc_test_all/grill_trash_can_Widow250GraspBigLoc_grill_trash_can-v0_1000_save_all_noise_0.1_2022-05-04T02-07-45_1000.npy\n",
      "0.401\n"
     ]
    }
   ],
   "source": [
    "test_bigloc_all_trajs_dir = '/media/3tb/chet/robo_exp/trajs/grasp_bigloc_test_all/*.npy'\n",
    "for f in glob.glob(test_bigloc_all_trajs_dir):\n",
    "    print(f)\n",
    "    print(success_rate(f))"
   ]
  }
 ],
 "metadata": {
  "interpreter": {
   "hash": "aab32ad80a3391f642fdb398b940a49a8a7e8bd7856505b8c03e2d8426702f1f"
  },
  "kernelspec": {
   "display_name": "Python 3.6.5 ('cql-env': conda)",
   "language": "python",
   "name": "python3"
  },
  "language_info": {
   "codemirror_mode": {
    "name": "ipython",
    "version": 3
   },
   "file_extension": ".py",
   "mimetype": "text/x-python",
   "name": "python",
   "nbconvert_exporter": "python",
   "pygments_lexer": "ipython3",
   "version": "3.6.5"
  },
  "orig_nbformat": 4
 },
 "nbformat": 4,
 "nbformat_minor": 2
}
